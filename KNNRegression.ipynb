{
 "cells": [
  {
   "cell_type": "code",
   "execution_count": 1,
   "id": "67dc4baa-112a-4818-93e5-bb33117d1ce1",
   "metadata": {
    "tags": []
   },
   "outputs": [],
   "source": [
    "import numpy as np\n",
    "import pandas as pd\n",
    "import matplotlib.pyplot as plt\n",
    "import seaborn as sns\n",
    "sns.set()\n",
    "import warnings\n",
    "warnings.filterwarnings('ignore')\n"
   ]
  },
  {
   "cell_type": "code",
   "execution_count": 23,
   "id": "0f243bdc-f1ec-46ef-8824-195c48bb09f5",
   "metadata": {
    "tags": []
   },
   "outputs": [],
   "source": [
    "rand_state = 1000"
   ]
  },
  {
   "cell_type": "code",
   "execution_count": 3,
   "id": "325c4af9-23d0-43ef-8234-fa602d9cdfd0",
   "metadata": {
    "tags": []
   },
   "outputs": [],
   "source": [
    "read_file = pd.read_csv(r'C:\\Users\\atsed\\Desktop\\Thesis_Reg\\Stimuli_4_polygon.txt') "
   ]
  },
  {
   "cell_type": "code",
   "execution_count": 4,
   "id": "af2e0a6e-61c4-4130-ad8c-e870d7bf305e",
   "metadata": {
    "tags": []
   },
   "outputs": [],
   "source": [
    "read_file.to_csv (r'C:\\Users\\atsed\\Desktop\\Thesis_Reg\\Thesis_Data_s4p.csv', index=None)"
   ]
  },
  {
   "cell_type": "code",
   "execution_count": 5,
   "id": "c78e2f16-1353-4f11-8e1c-4d75b932b66d",
   "metadata": {
    "tags": []
   },
   "outputs": [],
   "source": [
    "df = pd.read_table('Thesis_Data_s4p.csv')"
   ]
  },
  {
   "cell_type": "code",
   "execution_count": 6,
   "id": "553f474a-8fc7-4629-a389-f8eea06a8f7f",
   "metadata": {
    "tags": []
   },
   "outputs": [
    {
     "data": {
      "text/html": [
       "<div>\n",
       "<style scoped>\n",
       "    .dataframe tbody tr th:only-of-type {\n",
       "        vertical-align: middle;\n",
       "    }\n",
       "\n",
       "    .dataframe tbody tr th {\n",
       "        vertical-align: top;\n",
       "    }\n",
       "\n",
       "    .dataframe thead th {\n",
       "        text-align: right;\n",
       "    }\n",
       "</style>\n",
       "<table border=\"1\" class=\"dataframe\">\n",
       "  <thead>\n",
       "    <tr style=\"text-align: right;\">\n",
       "      <th></th>\n",
       "      <th>Skill_level</th>\n",
       "      <th>Gaze_point_X</th>\n",
       "      <th>Gaze_point_Y</th>\n",
       "      <th>Gaze_event_duration</th>\n",
       "      <th>Fixation_point_X</th>\n",
       "      <th>Fixation_point_Y</th>\n",
       "      <th>AOI_hit_Stimuli_4_Polygon</th>\n",
       "    </tr>\n",
       "  </thead>\n",
       "  <tbody>\n",
       "    <tr>\n",
       "      <th>0</th>\n",
       "      <td>Skilled</td>\n",
       "      <td>602</td>\n",
       "      <td>229</td>\n",
       "      <td>366</td>\n",
       "      <td>605</td>\n",
       "      <td>232</td>\n",
       "      <td>0</td>\n",
       "    </tr>\n",
       "    <tr>\n",
       "      <th>1</th>\n",
       "      <td>Skilled</td>\n",
       "      <td>605</td>\n",
       "      <td>231</td>\n",
       "      <td>366</td>\n",
       "      <td>605</td>\n",
       "      <td>232</td>\n",
       "      <td>0</td>\n",
       "    </tr>\n",
       "    <tr>\n",
       "      <th>2</th>\n",
       "      <td>Skilled</td>\n",
       "      <td>605</td>\n",
       "      <td>229</td>\n",
       "      <td>366</td>\n",
       "      <td>605</td>\n",
       "      <td>232</td>\n",
       "      <td>0</td>\n",
       "    </tr>\n",
       "    <tr>\n",
       "      <th>3</th>\n",
       "      <td>Skilled</td>\n",
       "      <td>606</td>\n",
       "      <td>229</td>\n",
       "      <td>366</td>\n",
       "      <td>605</td>\n",
       "      <td>232</td>\n",
       "      <td>0</td>\n",
       "    </tr>\n",
       "    <tr>\n",
       "      <th>4</th>\n",
       "      <td>Skilled</td>\n",
       "      <td>608</td>\n",
       "      <td>229</td>\n",
       "      <td>366</td>\n",
       "      <td>605</td>\n",
       "      <td>232</td>\n",
       "      <td>0</td>\n",
       "    </tr>\n",
       "  </tbody>\n",
       "</table>\n",
       "</div>"
      ],
      "text/plain": [
       "  Skill_level  Gaze_point_X  Gaze_point_Y  Gaze_event_duration  \\\n",
       "0     Skilled           602           229                  366   \n",
       "1     Skilled           605           231                  366   \n",
       "2     Skilled           605           229                  366   \n",
       "3     Skilled           606           229                  366   \n",
       "4     Skilled           608           229                  366   \n",
       "\n",
       "   Fixation_point_X  Fixation_point_Y  AOI_hit_Stimuli_4_Polygon  \n",
       "0               605               232                          0  \n",
       "1               605               232                          0  \n",
       "2               605               232                          0  \n",
       "3               605               232                          0  \n",
       "4               605               232                          0  "
      ]
     },
     "execution_count": 6,
     "metadata": {},
     "output_type": "execute_result"
    }
   ],
   "source": [
    "df.head()"
   ]
  },
  {
   "cell_type": "code",
   "execution_count": 8,
   "id": "228d0fab-7db9-4627-a067-d7c036020dae",
   "metadata": {
    "tags": []
   },
   "outputs": [
    {
     "name": "stdout",
     "output_type": "stream",
     "text": [
      "<class 'pandas.core.frame.DataFrame'>\n",
      "RangeIndex: 18043 entries, 0 to 18042\n",
      "Data columns (total 7 columns):\n",
      " #   Column                     Non-Null Count  Dtype \n",
      "---  ------                     --------------  ----- \n",
      " 0   Skill_level                18043 non-null  object\n",
      " 1   Gaze_point_X               18043 non-null  int64 \n",
      " 2   Gaze_point_Y               18043 non-null  int64 \n",
      " 3   Gaze_event_duration        18043 non-null  int64 \n",
      " 4   Fixation_point_X           18043 non-null  int64 \n",
      " 5   Fixation_point_Y           18043 non-null  int64 \n",
      " 6   AOI_hit_Stimuli_4_Polygon  18043 non-null  int64 \n",
      "dtypes: int64(6), object(1)\n",
      "memory usage: 986.9+ KB\n"
     ]
    }
   ],
   "source": [
    "df.info()"
   ]
  },
  {
   "cell_type": "code",
   "execution_count": 9,
   "id": "66d0e5ac-288e-4cf4-b566-655e8b9b18df",
   "metadata": {},
   "outputs": [
    {
     "ename": "SyntaxError",
     "evalue": "invalid syntax (3286517981.py, line 1)",
     "output_type": "error",
     "traceback": [
      "\u001b[1;36m  Cell \u001b[1;32mIn[9], line 1\u001b[1;36m\u001b[0m\n\u001b[1;33m    Data preprocessing\u001b[0m\n\u001b[1;37m         ^\u001b[0m\n\u001b[1;31mSyntaxError\u001b[0m\u001b[1;31m:\u001b[0m invalid syntax\n"
     ]
    }
   ],
   "source": [
    "Data preprocessing"
   ]
  },
  {
   "cell_type": "code",
   "execution_count": 10,
   "id": "f9c17043-1c95-4e7f-aa2e-09d68912860f",
   "metadata": {
    "tags": []
   },
   "outputs": [
    {
     "data": {
      "text/plain": [
       "Skill_level                  0\n",
       "Gaze_point_X                 0\n",
       "Gaze_point_Y                 0\n",
       "Gaze_event_duration          0\n",
       "Fixation_point_X             0\n",
       "Fixation_point_Y             0\n",
       "AOI_hit_Stimuli_4_Polygon    0\n",
       "dtype: int64"
      ]
     },
     "execution_count": 10,
     "metadata": {},
     "output_type": "execute_result"
    }
   ],
   "source": [
    "df.isna().sum()"
   ]
  },
  {
   "cell_type": "code",
   "execution_count": 11,
   "id": "c52eb1fe-1546-4f14-84b5-14b3064be23c",
   "metadata": {
    "tags": []
   },
   "outputs": [],
   "source": [
    "df = pd.get_dummies(df)"
   ]
  },
  {
   "cell_type": "code",
   "execution_count": 12,
   "id": "4154a382-d8b8-4369-b990-7c47862d18c3",
   "metadata": {
    "tags": []
   },
   "outputs": [
    {
     "data": {
      "text/plain": [
       "Index(['Gaze_point_X', 'Gaze_point_Y', 'Gaze_event_duration',\n",
       "       'Fixation_point_X', 'Fixation_point_Y', 'AOI_hit_Stimuli_4_Polygon',\n",
       "       'Skill_level_Novice', 'Skill_level_Skilled'],\n",
       "      dtype='object')"
      ]
     },
     "execution_count": 12,
     "metadata": {},
     "output_type": "execute_result"
    }
   ],
   "source": [
    "df.columns"
   ]
  },
  {
   "cell_type": "code",
   "execution_count": 13,
   "id": "27c5e9c0-2a1f-4f80-9233-3b6443b4f627",
   "metadata": {
    "tags": []
   },
   "outputs": [
    {
     "data": {
      "text/html": [
       "<div>\n",
       "<style scoped>\n",
       "    .dataframe tbody tr th:only-of-type {\n",
       "        vertical-align: middle;\n",
       "    }\n",
       "\n",
       "    .dataframe tbody tr th {\n",
       "        vertical-align: top;\n",
       "    }\n",
       "\n",
       "    .dataframe thead th {\n",
       "        text-align: right;\n",
       "    }\n",
       "</style>\n",
       "<table border=\"1\" class=\"dataframe\">\n",
       "  <thead>\n",
       "    <tr style=\"text-align: right;\">\n",
       "      <th></th>\n",
       "      <th>Gaze_point_X</th>\n",
       "      <th>Gaze_point_Y</th>\n",
       "      <th>Gaze_event_duration</th>\n",
       "      <th>Fixation_point_X</th>\n",
       "      <th>Fixation_point_Y</th>\n",
       "      <th>AOI_hit_Stimuli_4_Polygon</th>\n",
       "      <th>Skill_level_Novice</th>\n",
       "      <th>Skill_level_Skilled</th>\n",
       "    </tr>\n",
       "  </thead>\n",
       "  <tbody>\n",
       "    <tr>\n",
       "      <th>0</th>\n",
       "      <td>602</td>\n",
       "      <td>229</td>\n",
       "      <td>366</td>\n",
       "      <td>605</td>\n",
       "      <td>232</td>\n",
       "      <td>0</td>\n",
       "      <td>False</td>\n",
       "      <td>True</td>\n",
       "    </tr>\n",
       "    <tr>\n",
       "      <th>1</th>\n",
       "      <td>605</td>\n",
       "      <td>231</td>\n",
       "      <td>366</td>\n",
       "      <td>605</td>\n",
       "      <td>232</td>\n",
       "      <td>0</td>\n",
       "      <td>False</td>\n",
       "      <td>True</td>\n",
       "    </tr>\n",
       "    <tr>\n",
       "      <th>2</th>\n",
       "      <td>605</td>\n",
       "      <td>229</td>\n",
       "      <td>366</td>\n",
       "      <td>605</td>\n",
       "      <td>232</td>\n",
       "      <td>0</td>\n",
       "      <td>False</td>\n",
       "      <td>True</td>\n",
       "    </tr>\n",
       "    <tr>\n",
       "      <th>3</th>\n",
       "      <td>606</td>\n",
       "      <td>229</td>\n",
       "      <td>366</td>\n",
       "      <td>605</td>\n",
       "      <td>232</td>\n",
       "      <td>0</td>\n",
       "      <td>False</td>\n",
       "      <td>True</td>\n",
       "    </tr>\n",
       "    <tr>\n",
       "      <th>4</th>\n",
       "      <td>608</td>\n",
       "      <td>229</td>\n",
       "      <td>366</td>\n",
       "      <td>605</td>\n",
       "      <td>232</td>\n",
       "      <td>0</td>\n",
       "      <td>False</td>\n",
       "      <td>True</td>\n",
       "    </tr>\n",
       "  </tbody>\n",
       "</table>\n",
       "</div>"
      ],
      "text/plain": [
       "   Gaze_point_X  Gaze_point_Y  Gaze_event_duration  Fixation_point_X  \\\n",
       "0           602           229                  366               605   \n",
       "1           605           231                  366               605   \n",
       "2           605           229                  366               605   \n",
       "3           606           229                  366               605   \n",
       "4           608           229                  366               605   \n",
       "\n",
       "   Fixation_point_Y  AOI_hit_Stimuli_4_Polygon  Skill_level_Novice  \\\n",
       "0               232                          0               False   \n",
       "1               232                          0               False   \n",
       "2               232                          0               False   \n",
       "3               232                          0               False   \n",
       "4               232                          0               False   \n",
       "\n",
       "   Skill_level_Skilled  \n",
       "0                 True  \n",
       "1                 True  \n",
       "2                 True  \n",
       "3                 True  \n",
       "4                 True  "
      ]
     },
     "execution_count": 13,
     "metadata": {},
     "output_type": "execute_result"
    }
   ],
   "source": [
    "df.head()"
   ]
  },
  {
   "cell_type": "code",
   "execution_count": 15,
   "id": "303000cc-6356-41d9-a4f4-ed8ddf7bbcb7",
   "metadata": {
    "tags": []
   },
   "outputs": [],
   "source": [
    "df = df[['Skill_level_Skilled', 'Gaze_point_X', 'Gaze_point_Y', 'Gaze_event_duration',\n",
    "       'Fixation_point_X', 'Fixation_point_Y', 'AOI_hit_Stimuli_4_Polygon',\n",
    "       ]]"
   ]
  },
  {
   "cell_type": "code",
   "execution_count": 16,
   "id": "e80099cc-e192-4183-828d-260ccdfdd377",
   "metadata": {
    "tags": []
   },
   "outputs": [
    {
     "data": {
      "text/html": [
       "<div>\n",
       "<style scoped>\n",
       "    .dataframe tbody tr th:only-of-type {\n",
       "        vertical-align: middle;\n",
       "    }\n",
       "\n",
       "    .dataframe tbody tr th {\n",
       "        vertical-align: top;\n",
       "    }\n",
       "\n",
       "    .dataframe thead th {\n",
       "        text-align: right;\n",
       "    }\n",
       "</style>\n",
       "<table border=\"1\" class=\"dataframe\">\n",
       "  <thead>\n",
       "    <tr style=\"text-align: right;\">\n",
       "      <th></th>\n",
       "      <th>Skill_level_Skilled</th>\n",
       "      <th>Gaze_point_X</th>\n",
       "      <th>Gaze_point_Y</th>\n",
       "      <th>Gaze_event_duration</th>\n",
       "      <th>Fixation_point_X</th>\n",
       "      <th>Fixation_point_Y</th>\n",
       "      <th>AOI_hit_Stimuli_4_Polygon</th>\n",
       "    </tr>\n",
       "  </thead>\n",
       "  <tbody>\n",
       "    <tr>\n",
       "      <th>0</th>\n",
       "      <td>True</td>\n",
       "      <td>602</td>\n",
       "      <td>229</td>\n",
       "      <td>366</td>\n",
       "      <td>605</td>\n",
       "      <td>232</td>\n",
       "      <td>0</td>\n",
       "    </tr>\n",
       "    <tr>\n",
       "      <th>1</th>\n",
       "      <td>True</td>\n",
       "      <td>605</td>\n",
       "      <td>231</td>\n",
       "      <td>366</td>\n",
       "      <td>605</td>\n",
       "      <td>232</td>\n",
       "      <td>0</td>\n",
       "    </tr>\n",
       "    <tr>\n",
       "      <th>2</th>\n",
       "      <td>True</td>\n",
       "      <td>605</td>\n",
       "      <td>229</td>\n",
       "      <td>366</td>\n",
       "      <td>605</td>\n",
       "      <td>232</td>\n",
       "      <td>0</td>\n",
       "    </tr>\n",
       "    <tr>\n",
       "      <th>3</th>\n",
       "      <td>True</td>\n",
       "      <td>606</td>\n",
       "      <td>229</td>\n",
       "      <td>366</td>\n",
       "      <td>605</td>\n",
       "      <td>232</td>\n",
       "      <td>0</td>\n",
       "    </tr>\n",
       "    <tr>\n",
       "      <th>4</th>\n",
       "      <td>True</td>\n",
       "      <td>608</td>\n",
       "      <td>229</td>\n",
       "      <td>366</td>\n",
       "      <td>605</td>\n",
       "      <td>232</td>\n",
       "      <td>0</td>\n",
       "    </tr>\n",
       "  </tbody>\n",
       "</table>\n",
       "</div>"
      ],
      "text/plain": [
       "   Skill_level_Skilled  Gaze_point_X  Gaze_point_Y  Gaze_event_duration  \\\n",
       "0                 True           602           229                  366   \n",
       "1                 True           605           231                  366   \n",
       "2                 True           605           229                  366   \n",
       "3                 True           606           229                  366   \n",
       "4                 True           608           229                  366   \n",
       "\n",
       "   Fixation_point_X  Fixation_point_Y  AOI_hit_Stimuli_4_Polygon  \n",
       "0               605               232                          0  \n",
       "1               605               232                          0  \n",
       "2               605               232                          0  \n",
       "3               605               232                          0  \n",
       "4               605               232                          0  "
      ]
     },
     "execution_count": 16,
     "metadata": {},
     "output_type": "execute_result"
    }
   ],
   "source": [
    "df.head()"
   ]
  },
  {
   "cell_type": "code",
   "execution_count": 17,
   "id": "a517b636-e667-4496-bea1-497869c64b3e",
   "metadata": {
    "tags": []
   },
   "outputs": [
    {
     "data": {
      "text/html": [
       "<div>\n",
       "<style scoped>\n",
       "    .dataframe tbody tr th:only-of-type {\n",
       "        vertical-align: middle;\n",
       "    }\n",
       "\n",
       "    .dataframe tbody tr th {\n",
       "        vertical-align: top;\n",
       "    }\n",
       "\n",
       "    .dataframe thead th {\n",
       "        text-align: right;\n",
       "    }\n",
       "</style>\n",
       "<table border=\"1\" class=\"dataframe\">\n",
       "  <thead>\n",
       "    <tr style=\"text-align: right;\">\n",
       "      <th></th>\n",
       "      <th>Gaze_point_X</th>\n",
       "      <th>Gaze_point_Y</th>\n",
       "      <th>Gaze_event_duration</th>\n",
       "      <th>Fixation_point_X</th>\n",
       "      <th>Fixation_point_Y</th>\n",
       "      <th>AOI_hit_Stimuli_4_Polygon</th>\n",
       "    </tr>\n",
       "  </thead>\n",
       "  <tbody>\n",
       "    <tr>\n",
       "      <th>count</th>\n",
       "      <td>18043.000000</td>\n",
       "      <td>18043.000000</td>\n",
       "      <td>18043.000000</td>\n",
       "      <td>18043.000000</td>\n",
       "      <td>18043.000000</td>\n",
       "      <td>18043.000000</td>\n",
       "    </tr>\n",
       "    <tr>\n",
       "      <th>mean</th>\n",
       "      <td>771.767999</td>\n",
       "      <td>361.218201</td>\n",
       "      <td>507.966857</td>\n",
       "      <td>770.077759</td>\n",
       "      <td>365.653550</td>\n",
       "      <td>0.540099</td>\n",
       "    </tr>\n",
       "    <tr>\n",
       "      <th>std</th>\n",
       "      <td>117.712164</td>\n",
       "      <td>132.933742</td>\n",
       "      <td>555.275387</td>\n",
       "      <td>117.643205</td>\n",
       "      <td>132.574088</td>\n",
       "      <td>0.498403</td>\n",
       "    </tr>\n",
       "    <tr>\n",
       "      <th>min</th>\n",
       "      <td>101.000000</td>\n",
       "      <td>6.000000</td>\n",
       "      <td>66.000000</td>\n",
       "      <td>103.000000</td>\n",
       "      <td>19.000000</td>\n",
       "      <td>0.000000</td>\n",
       "    </tr>\n",
       "    <tr>\n",
       "      <th>25%</th>\n",
       "      <td>684.000000</td>\n",
       "      <td>248.000000</td>\n",
       "      <td>183.000000</td>\n",
       "      <td>681.000000</td>\n",
       "      <td>249.000000</td>\n",
       "      <td>0.000000</td>\n",
       "    </tr>\n",
       "    <tr>\n",
       "      <th>50%</th>\n",
       "      <td>752.000000</td>\n",
       "      <td>364.000000</td>\n",
       "      <td>283.000000</td>\n",
       "      <td>748.000000</td>\n",
       "      <td>372.000000</td>\n",
       "      <td>1.000000</td>\n",
       "    </tr>\n",
       "    <tr>\n",
       "      <th>75%</th>\n",
       "      <td>867.000000</td>\n",
       "      <td>443.000000</td>\n",
       "      <td>549.000000</td>\n",
       "      <td>865.000000</td>\n",
       "      <td>444.000000</td>\n",
       "      <td>1.000000</td>\n",
       "    </tr>\n",
       "    <tr>\n",
       "      <th>max</th>\n",
       "      <td>1546.000000</td>\n",
       "      <td>1101.000000</td>\n",
       "      <td>2596.000000</td>\n",
       "      <td>1271.000000</td>\n",
       "      <td>875.000000</td>\n",
       "      <td>1.000000</td>\n",
       "    </tr>\n",
       "  </tbody>\n",
       "</table>\n",
       "</div>"
      ],
      "text/plain": [
       "       Gaze_point_X  Gaze_point_Y  Gaze_event_duration  Fixation_point_X  \\\n",
       "count  18043.000000  18043.000000         18043.000000      18043.000000   \n",
       "mean     771.767999    361.218201           507.966857        770.077759   \n",
       "std      117.712164    132.933742           555.275387        117.643205   \n",
       "min      101.000000      6.000000            66.000000        103.000000   \n",
       "25%      684.000000    248.000000           183.000000        681.000000   \n",
       "50%      752.000000    364.000000           283.000000        748.000000   \n",
       "75%      867.000000    443.000000           549.000000        865.000000   \n",
       "max     1546.000000   1101.000000          2596.000000       1271.000000   \n",
       "\n",
       "       Fixation_point_Y  AOI_hit_Stimuli_4_Polygon  \n",
       "count      18043.000000               18043.000000  \n",
       "mean         365.653550                   0.540099  \n",
       "std          132.574088                   0.498403  \n",
       "min           19.000000                   0.000000  \n",
       "25%          249.000000                   0.000000  \n",
       "50%          372.000000                   1.000000  \n",
       "75%          444.000000                   1.000000  \n",
       "max          875.000000                   1.000000  "
      ]
     },
     "execution_count": 17,
     "metadata": {},
     "output_type": "execute_result"
    }
   ],
   "source": [
    "df.describe()"
   ]
  },
  {
   "cell_type": "code",
   "execution_count": 18,
   "id": "9db98f7f-ce13-44b2-bba3-34420980e4fa",
   "metadata": {
    "tags": []
   },
   "outputs": [
    {
     "data": {
      "image/png": "[encoded data removed]",
      "text/plain": [
       "<Figure size 600x400 with 2 Axes>"
      ]
     },
     "metadata": {},
     "output_type": "display_data"
    }
   ],
   "source": [
    "plt.figure(figsize=(6,4))\n",
    "sns.heatmap(df.corr(), cmap='coolwarm', annot=True, yticklabels=True)\n",
    "plt.show()"
   ]
  },
  {
   "cell_type": "code",
   "execution_count": 44,
   "id": "ab37d123-1b66-4b0b-983e-4492502e7921",
   "metadata": {
    "tags": []
   },
   "outputs": [],
   "source": [
    "from sklearn.preprocessing import StandardScaler\n",
    "scaler=StandardScaler()\n",
    "df_sc=scaler.fit_transform(df)"
   ]
  },
  {
   "cell_type": "code",
   "execution_count": 45,
   "id": "921e038d-ad60-49d7-ba36-104004dba5d9",
   "metadata": {
    "tags": []
   },
   "outputs": [
    {
     "data": {
      "text/html": [
       "<div>\n",
       "<style scoped>\n",
       "    .dataframe tbody tr th:only-of-type {\n",
       "        vertical-align: middle;\n",
       "    }\n",
       "\n",
       "    .dataframe tbody tr th {\n",
       "        vertical-align: top;\n",
       "    }\n",
       "\n",
       "    .dataframe thead th {\n",
       "        text-align: right;\n",
       "    }\n",
       "</style>\n",
       "<table border=\"1\" class=\"dataframe\">\n",
       "  <thead>\n",
       "    <tr style=\"text-align: right;\">\n",
       "      <th></th>\n",
       "      <th>Skill_level_Skilled</th>\n",
       "      <th>Gaze_point_X</th>\n",
       "      <th>Gaze_point_Y</th>\n",
       "      <th>Gaze_event_duration</th>\n",
       "      <th>Fixation_point_X</th>\n",
       "      <th>Fixation_point_Y</th>\n",
       "      <th>AOI_hit_Stimuli_4_Polygon</th>\n",
       "    </tr>\n",
       "  </thead>\n",
       "  <tbody>\n",
       "    <tr>\n",
       "      <th>0</th>\n",
       "      <td>2.161508</td>\n",
       "      <td>-1.442270</td>\n",
       "      <td>-0.994645</td>\n",
       "      <td>-0.255676</td>\n",
       "      <td>-1.403246</td>\n",
       "      <td>-1.00817</td>\n",
       "      <td>-1.083688</td>\n",
       "    </tr>\n",
       "    <tr>\n",
       "      <th>1</th>\n",
       "      <td>2.161508</td>\n",
       "      <td>-1.416783</td>\n",
       "      <td>-0.979599</td>\n",
       "      <td>-0.255676</td>\n",
       "      <td>-1.403246</td>\n",
       "      <td>-1.00817</td>\n",
       "      <td>-1.083688</td>\n",
       "    </tr>\n",
       "    <tr>\n",
       "      <th>2</th>\n",
       "      <td>2.161508</td>\n",
       "      <td>-1.416783</td>\n",
       "      <td>-0.994645</td>\n",
       "      <td>-0.255676</td>\n",
       "      <td>-1.403246</td>\n",
       "      <td>-1.00817</td>\n",
       "      <td>-1.083688</td>\n",
       "    </tr>\n",
       "    <tr>\n",
       "      <th>3</th>\n",
       "      <td>2.161508</td>\n",
       "      <td>-1.408288</td>\n",
       "      <td>-0.994645</td>\n",
       "      <td>-0.255676</td>\n",
       "      <td>-1.403246</td>\n",
       "      <td>-1.00817</td>\n",
       "      <td>-1.083688</td>\n",
       "    </tr>\n",
       "    <tr>\n",
       "      <th>4</th>\n",
       "      <td>2.161508</td>\n",
       "      <td>-1.391297</td>\n",
       "      <td>-0.994645</td>\n",
       "      <td>-0.255676</td>\n",
       "      <td>-1.403246</td>\n",
       "      <td>-1.00817</td>\n",
       "      <td>-1.083688</td>\n",
       "    </tr>\n",
       "  </tbody>\n",
       "</table>\n",
       "</div>"
      ],
      "text/plain": [
       "   Skill_level_Skilled  Gaze_point_X  Gaze_point_Y  Gaze_event_duration  \\\n",
       "0             2.161508     -1.442270     -0.994645            -0.255676   \n",
       "1             2.161508     -1.416783     -0.979599            -0.255676   \n",
       "2             2.161508     -1.416783     -0.994645            -0.255676   \n",
       "3             2.161508     -1.408288     -0.994645            -0.255676   \n",
       "4             2.161508     -1.391297     -0.994645            -0.255676   \n",
       "\n",
       "   Fixation_point_X  Fixation_point_Y  AOI_hit_Stimuli_4_Polygon  \n",
       "0         -1.403246          -1.00817                  -1.083688  \n",
       "1         -1.403246          -1.00817                  -1.083688  \n",
       "2         -1.403246          -1.00817                  -1.083688  \n",
       "3         -1.403246          -1.00817                  -1.083688  \n",
       "4         -1.403246          -1.00817                  -1.083688  "
      ]
     },
     "execution_count": 45,
     "metadata": {},
     "output_type": "execute_result"
    }
   ],
   "source": [
    "df_sc = pd.DataFrame(df_sc, columns=df.columns)\n",
    "df_sc.head(ac)"
   ]
  },
  {
   "cell_type": "code",
   "execution_count": 46,
   "id": "b2f34d3e-cf26-4558-ab17-15b617758a3e",
   "metadata": {
    "tags": []
   },
   "outputs": [],
   "source": [
    "y = df_sc['Skill_level_Skilled']\n",
    "X = df_sc.drop('Skill_level_Skilled', axis=1)\n",
    "\n",
    "from sklearn.model_selection import train_test_split\n",
    "X_train, X_test, y_train, y_test = train_test_split(X, y, test_size=0.4, random_state=rand_state)"
   ]
  },
  {
   "cell_type": "code",
   "execution_count": 47,
   "id": "9083002a-cb61-4040-bb2c-9c63d258ba2a",
   "metadata": {
    "tags": []
   },
   "outputs": [
    {
     "data": {
      "text/html": [
       "<div>\n",
       "<style scoped>\n",
       "    .dataframe tbody tr th:only-of-type {\n",
       "        vertical-align: middle;\n",
       "    }\n",
       "\n",
       "    .dataframe tbody tr th {\n",
       "        vertical-align: top;\n",
       "    }\n",
       "\n",
       "    .dataframe thead th {\n",
       "        text-align: right;\n",
       "    }\n",
       "</style>\n",
       "<table border=\"1\" class=\"dataframe\">\n",
       "  <thead>\n",
       "    <tr style=\"text-align: right;\">\n",
       "      <th></th>\n",
       "      <th>Gaze_point_X</th>\n",
       "      <th>Gaze_point_Y</th>\n",
       "      <th>Gaze_event_duration</th>\n",
       "      <th>Fixation_point_X</th>\n",
       "      <th>Fixation_point_Y</th>\n",
       "      <th>AOI_hit_Stimuli_4_Polygon</th>\n",
       "    </tr>\n",
       "  </thead>\n",
       "  <tbody>\n",
       "    <tr>\n",
       "      <th>7195</th>\n",
       "      <td>-0.082984</td>\n",
       "      <td>0.178905</td>\n",
       "      <td>-0.255676</td>\n",
       "      <td>-0.170671</td>\n",
       "      <td>0.425030</td>\n",
       "      <td>0.922775</td>\n",
       "    </tr>\n",
       "    <tr>\n",
       "      <th>16708</th>\n",
       "      <td>-1.518730</td>\n",
       "      <td>0.336882</td>\n",
       "      <td>0.763666</td>\n",
       "      <td>-1.454249</td>\n",
       "      <td>0.213822</td>\n",
       "      <td>-1.083688</td>\n",
       "    </tr>\n",
       "    <tr>\n",
       "      <th>6563</th>\n",
       "      <td>0.069935</td>\n",
       "      <td>0.344405</td>\n",
       "      <td>-0.675300</td>\n",
       "      <td>0.245854</td>\n",
       "      <td>0.741843</td>\n",
       "      <td>-1.083688</td>\n",
       "    </tr>\n",
       "    <tr>\n",
       "      <th>8209</th>\n",
       "      <td>0.409757</td>\n",
       "      <td>1.013930</td>\n",
       "      <td>-0.495204</td>\n",
       "      <td>0.220352</td>\n",
       "      <td>1.020940</td>\n",
       "      <td>-1.083688</td>\n",
       "    </tr>\n",
       "    <tr>\n",
       "      <th>1</th>\n",
       "      <td>-1.416783</td>\n",
       "      <td>-0.979599</td>\n",
       "      <td>-0.255676</td>\n",
       "      <td>-1.403246</td>\n",
       "      <td>-1.008170</td>\n",
       "      <td>-1.083688</td>\n",
       "    </tr>\n",
       "  </tbody>\n",
       "</table>\n",
       "</div>"
      ],
      "text/plain": [
       "       Gaze_point_X  Gaze_point_Y  Gaze_event_duration  Fixation_point_X  \\\n",
       "7195      -0.082984      0.178905            -0.255676         -0.170671   \n",
       "16708     -1.518730      0.336882             0.763666         -1.454249   \n",
       "6563       0.069935      0.344405            -0.675300          0.245854   \n",
       "8209       0.409757      1.013930            -0.495204          0.220352   \n",
       "1         -1.416783     -0.979599            -0.255676         -1.403246   \n",
       "\n",
       "       Fixation_point_Y  AOI_hit_Stimuli_4_Polygon  \n",
       "7195           0.425030                   0.922775  \n",
       "16708          0.213822                  -1.083688  \n",
       "6563           0.741843                  -1.083688  \n",
       "8209           1.020940                  -1.083688  \n",
       "1             -1.008170                  -1.083688  "
      ]
     },
     "execution_count": 47,
     "metadata": {},
     "output_type": "execute_result"
    }
   ],
   "source": [
    "X_train.head()"
   ]
  },
  {
   "cell_type": "code",
   "execution_count": 26,
   "id": "1b8c7906-652a-425c-b1ec-22c2e33965ad",
   "metadata": {
    "tags": []
   },
   "outputs": [],
   "source": [
    "from sklearn.neighbors import KNeighborsRegressor\n"
   ]
  },
  {
   "cell_type": "code",
   "execution_count": 27,
   "id": "fab5edc2-ba14-4525-b24a-069a68f38b3e",
   "metadata": {
    "tags": []
   },
   "outputs": [
    {
     "data": {
      "text/html": [
       "<style>#sk-container-id-1 {color: black;}#sk-container-id-1 pre{padding: 0;}#sk-container-id-1 div.sk-toggleable {background-color: white;}#sk-container-id-1 label.sk-toggleable__label {cursor: pointer;display: block;width: 100%;margin-bottom: 0;padding: 0.3em;box-sizing: border-box;text-align: center;}#sk-container-id-1 label.sk-toggleable__label-arrow:before {content: \"▸\";float: left;margin-right: 0.25em;color: #696969;}#sk-container-id-1 label.sk-toggleable__label-arrow:hover:before {color: black;}#sk-container-id-1 div.sk-estimator:hover label.sk-toggleable__label-arrow:before {color: black;}#sk-container-id-1 div.sk-toggleable__content {max-height: 0;max-width: 0;overflow: hidden;text-align: left;background-color: #f0f8ff;}#sk-container-id-1 div.sk-toggleable__content pre {margin: 0.2em;color: black;border-radius: 0.25em;background-color: #f0f8ff;}#sk-container-id-1 input.sk-toggleable__control:checked~div.sk-toggleable__content {max-height: 200px;max-width: 100%;overflow: auto;}#sk-container-id-1 input.sk-toggleable__control:checked~label.sk-toggleable__label-arrow:before {content: \"▾\";}#sk-container-id-1 div.sk-estimator input.sk-toggleable__control:checked~label.sk-toggleable__label {background-color: #d4ebff;}#sk-container-id-1 div.sk-label input.sk-toggleable__control:checked~label.sk-toggleable__label {background-color: #d4ebff;}#sk-container-id-1 input.sk-hidden--visually {border: 0;clip: rect(1px 1px 1px 1px);clip: rect(1px, 1px, 1px, 1px);height: 1px;margin: -1px;overflow: hidden;padding: 0;position: absolute;width: 1px;}#sk-container-id-1 div.sk-estimator {font-family: monospace;background-color: #f0f8ff;border: 1px dotted black;border-radius: 0.25em;box-sizing: border-box;margin-bottom: 0.5em;}#sk-container-id-1 div.sk-estimator:hover {background-color: #d4ebff;}#sk-container-id-1 div.sk-parallel-item::after {content: \"\";width: 100%;border-bottom: 1px solid gray;flex-grow: 1;}#sk-container-id-1 div.sk-label:hover label.sk-toggleable__label {background-color: #d4ebff;}#sk-container-id-1 div.sk-serial::before {content: \"\";position: absolute;border-left: 1px solid gray;box-sizing: border-box;top: 0;bottom: 0;left: 50%;z-index: 0;}#sk-container-id-1 div.sk-serial {display: flex;flex-direction: column;align-items: center;background-color: white;padding-right: 0.2em;padding-left: 0.2em;position: relative;}#sk-container-id-1 div.sk-item {position: relative;z-index: 1;}#sk-container-id-1 div.sk-parallel {display: flex;align-items: stretch;justify-content: center;background-color: white;position: relative;}#sk-container-id-1 div.sk-item::before, #sk-container-id-1 div.sk-parallel-item::before {content: \"\";position: absolute;border-left: 1px solid gray;box-sizing: border-box;top: 0;bottom: 0;left: 50%;z-index: -1;}#sk-container-id-1 div.sk-parallel-item {display: flex;flex-direction: column;z-index: 1;position: relative;background-color: white;}#sk-container-id-1 div.sk-parallel-item:first-child::after {align-self: flex-end;width: 50%;}#sk-container-id-1 div.sk-parallel-item:last-child::after {align-self: flex-start;width: 50%;}#sk-container-id-1 div.sk-parallel-item:only-child::after {width: 0;}#sk-container-id-1 div.sk-dashed-wrapped {border: 1px dashed gray;margin: 0 0.4em 0.5em 0.4em;box-sizing: border-box;padding-bottom: 0.4em;background-color: white;}#sk-container-id-1 div.sk-label label {font-family: monospace;font-weight: bold;display: inline-block;line-height: 1.2em;}#sk-container-id-1 div.sk-label-container {text-align: center;}#sk-container-id-1 div.sk-container {/* jupyter's `normalize.less` sets `[hidden] { display: none; }` but bootstrap.min.css set `[hidden] { display: none !important; }` so we also need the `!important` here to be able to override the default hidden behavior on the sphinx rendered scikit-learn.org. See: https://github.com/scikit-learn/scikit-learn/issues/21755 */display: inline-block !important;position: relative;}#sk-container-id-1 div.sk-text-repr-fallback {display: none;}</style><div id=\"sk-container-id-1\" class=\"sk-top-container\"><div class=\"sk-text-repr-fallback\"><pre>KNeighborsRegressor()</pre><b>In a Jupyter environment, please rerun this cell to show the HTML representation or trust the notebook. <br />On GitHub, the HTML representation is unable to render, please try loading this page with nbviewer.org.</b></div><div class=\"sk-container\" hidden><div class=\"sk-item\"><div class=\"sk-estimator sk-toggleable\"><input class=\"sk-toggleable__control sk-hidden--visually\" id=\"sk-estimator-id-1\" type=\"checkbox\" checked><label for=\"sk-estimator-id-1\" class=\"sk-toggleable__label sk-toggleable__label-arrow\">KNeighborsRegressor</label><div class=\"sk-toggleable__content\"><pre>KNeighborsRegressor()</pre></div></div></div></div></div>"
      ],
      "text/plain": [
       "KNeighborsRegressor()"
      ]
     },
     "execution_count": 27,
     "metadata": {},
     "output_type": "execute_result"
    }
   ],
   "source": [
    "KNN_regression = KNeighborsRegressor(n_neighbors=5)\n",
    "KNN_regression.fit(X_train, y_train)"
   ]
  },
  {
   "cell_type": "code",
   "execution_count": 28,
   "id": "c38e68fe-a074-4123-bb73-d10ee226136c",
   "metadata": {
    "tags": []
   },
   "outputs": [],
   "source": [
    "y_hat = KNN_regression.predict(X_test)"
   ]
  },
  {
   "cell_type": "code",
   "execution_count": 29,
   "id": "ed46b55e-33ae-4c10-badf-98753520cd71",
   "metadata": {
    "tags": []
   },
   "outputs": [
    {
     "data": {
      "text/html": [
       "<div>\n",
       "<style scoped>\n",
       "    .dataframe tbody tr th:only-of-type {\n",
       "        vertical-align: middle;\n",
       "    }\n",
       "\n",
       "    .dataframe tbody tr th {\n",
       "        vertical-align: top;\n",
       "    }\n",
       "\n",
       "    .dataframe thead th {\n",
       "        text-align: right;\n",
       "    }\n",
       "</style>\n",
       "<table border=\"1\" class=\"dataframe\">\n",
       "  <thead>\n",
       "    <tr style=\"text-align: right;\">\n",
       "      <th></th>\n",
       "      <th>y_test</th>\n",
       "      <th>y_hat</th>\n",
       "    </tr>\n",
       "  </thead>\n",
       "  <tbody>\n",
       "    <tr>\n",
       "      <th>15796</th>\n",
       "      <td>-0.462640</td>\n",
       "      <td>-0.462640</td>\n",
       "    </tr>\n",
       "    <tr>\n",
       "      <th>6548</th>\n",
       "      <td>-0.462640</td>\n",
       "      <td>-0.462640</td>\n",
       "    </tr>\n",
       "    <tr>\n",
       "      <th>1947</th>\n",
       "      <td>2.161508</td>\n",
       "      <td>2.161508</td>\n",
       "    </tr>\n",
       "    <tr>\n",
       "      <th>6471</th>\n",
       "      <td>-0.462640</td>\n",
       "      <td>-0.462640</td>\n",
       "    </tr>\n",
       "    <tr>\n",
       "      <th>1505</th>\n",
       "      <td>2.161508</td>\n",
       "      <td>2.161508</td>\n",
       "    </tr>\n",
       "  </tbody>\n",
       "</table>\n",
       "</div>"
      ],
      "text/plain": [
       "         y_test     y_hat\n",
       "15796 -0.462640 -0.462640\n",
       "6548  -0.462640 -0.462640\n",
       "1947   2.161508  2.161508\n",
       "6471  -0.462640 -0.462640\n",
       "1505   2.161508  2.161508"
      ]
     },
     "execution_count": 29,
     "metadata": {},
     "output_type": "execute_result"
    }
   ],
   "source": [
    "predictions = pd.DataFrame({'y_test':y_test, 'y_hat':y_hat})\n",
    "predictions.head()"
   ]
  },
  {
   "cell_type": "code",
   "execution_count": 31,
   "id": "9126a04e-cb72-4820-a83f-74a58be7b010",
   "metadata": {
    "tags": []
   },
   "outputs": [
    {
     "ename": "TypeError",
     "evalue": "lineplot() takes from 0 to 1 positional arguments but 2 were given",
     "output_type": "error",
     "traceback": [
      "\u001b[1;31m---------------------------------------------------------------------------\u001b[0m",
      "\u001b[1;31mTypeError\u001b[0m                                 Traceback (most recent call last)",
      "Cell \u001b[1;32mIn[31], line 2\u001b[0m\n\u001b[0;32m      1\u001b[0m sns\u001b[38;5;241m.\u001b[39mscatterplot(x\u001b[38;5;241m=\u001b[39my_test, y\u001b[38;5;241m=\u001b[39my_hat, alpha\u001b[38;5;241m=\u001b[39m\u001b[38;5;241m0.6\u001b[39m)\n\u001b[1;32m----> 2\u001b[0m sns\u001b[38;5;241m.\u001b[39mlineplot(y_test, y_test)\n\u001b[0;32m      4\u001b[0m plt\u001b[38;5;241m.\u001b[39mxlabel(\u001b[38;5;124m'\u001b[39m\u001b[38;5;124mActual_Skill set\u001b[39m\u001b[38;5;124m'\u001b[39m, fontsize\u001b[38;5;241m=\u001b[39m\u001b[38;5;241m14\u001b[39m)\n\u001b[0;32m      5\u001b[0m plt\u001b[38;5;241m.\u001b[39mylabel(\u001b[38;5;124m'\u001b[39m\u001b[38;5;124mPredicted Skill set\u001b[39m\u001b[38;5;124m'\u001b[39m, fontsize\u001b[38;5;241m=\u001b[39m\u001b[38;5;241m14\u001b[39m)\n",
      "\u001b[1;31mTypeError\u001b[0m: lineplot() takes from 0 to 1 positional arguments but 2 were given"
     ]
    },
    {
     "data": {
      "image/png": "[encoded data removed]",
      "text/plain": [
       "<Figure size 640x480 with 1 Axes>"
      ]
     },
     "metadata": {},
     "output_type": "display_data"
    }
   ],
   "source": [
    "sns.scatterplot(x=y_test, y=y_hat, alpha=0.6)\n",
    "sns.lineplot(y_test, y_test)\n",
    "\n",
    "plt.xlabel('Actual_Skill set', fontsize=14)\n",
    "plt.ylabel('Predicted Skill set', fontsize=14)\n",
    "plt.title('Actual Vs Predicted Skill level (test set)', fontsize=17)\n",
    "plt.show()"
   ]
  },
  {
   "cell_type": "code",
   "execution_count": 32,
   "id": "b92c43ad-5698-4e4b-b54a-e5b1d4e87b76",
   "metadata": {
    "tags": []
   },
   "outputs": [
    {
     "data": {
      "text/plain": [
       "0.9647690076429437"
      ]
     },
     "execution_count": 32,
     "metadata": {},
     "output_type": "execute_result"
    }
   ],
   "source": [
    "KNN_regression.score(X_test, y_test)"
   ]
  },
  {
   "cell_type": "code",
   "execution_count": 33,
   "id": "c54b71c4-b560-4697-a6c7-1e8183a077c8",
   "metadata": {
    "tags": []
   },
   "outputs": [
    {
     "data": {
      "text/plain": [
       "(10825, 6)"
      ]
     },
     "execution_count": 33,
     "metadata": {},
     "output_type": "execute_result"
    }
   ],
   "source": [
    "X_train.shape"
   ]
  },
  {
   "cell_type": "code",
   "execution_count": 34,
   "id": "0d0a8124-6cce-4d14-b74f-fce1d3e6575b",
   "metadata": {
    "tags": []
   },
   "outputs": [
    {
     "data": {
      "text/plain": [
       "0.03"
      ]
     },
     "execution_count": 34,
     "metadata": {},
     "output_type": "execute_result"
    }
   ],
   "source": [
    "MSE_test = round(np.mean(np.square(y_test - y_hat)),2)\n",
    "MSE_test"
   ]
  },
  {
   "cell_type": "code",
   "execution_count": 35,
   "id": "99fcf5e0-0966-48aa-8541-5f188ed42d44",
   "metadata": {
    "tags": []
   },
   "outputs": [
    {
     "data": {
      "text/plain": [
       "0.17"
      ]
     },
     "execution_count": 35,
     "metadata": {},
     "output_type": "execute_result"
    }
   ],
   "source": [
    "RMSE_test = round(np.sqrt(MSE_test), 2)\n",
    "RMSE_test"
   ]
  },
  {
   "cell_type": "code",
   "execution_count": 36,
   "id": "9b3dbd10-e894-4734-8b8d-5583e814064d",
   "metadata": {
    "tags": []
   },
   "outputs": [],
   "source": [
    "from sklearn.model_selection import cross_val_score"
   ]
  },
  {
   "cell_type": "code",
   "execution_count": 37,
   "id": "12c3bc14-3ce6-46f2-8061-e9a023f4a141",
   "metadata": {
    "tags": []
   },
   "outputs": [],
   "source": [
    "NMSE= cross_val_score(estimator = KNN_regression, X = X_train, y = y_train, cv = 5, scoring=\"neg_mean_squared_error\")\n"
   ]
  },
  {
   "cell_type": "code",
   "execution_count": 38,
   "id": "48f81e62-d68e-4e28-9c47-121301bfe8b8",
   "metadata": {
    "tags": []
   },
   "outputs": [
    {
     "data": {
      "text/plain": [
       "0.0553"
      ]
     },
     "execution_count": 38,
     "metadata": {},
     "output_type": "execute_result"
    }
   ],
   "source": [
    "MSE_CV = round(np.mean(-NMSE),4)\n",
    "MSE_CV"
   ]
  },
  {
   "cell_type": "code",
   "execution_count": 39,
   "id": "62bb5fdf-813c-43c2-9557-1481f83b9e1d",
   "metadata": {
    "tags": []
   },
   "outputs": [
    {
     "data": {
      "text/plain": [
       "0.2352"
      ]
     },
     "execution_count": 39,
     "metadata": {},
     "output_type": "execute_result"
    }
   ],
   "source": [
    "RMSE_CV = round(np.sqrt(MSE_CV), 4)\n",
    "RMSE_CV"
   ]
  },
  {
   "cell_type": "code",
   "execution_count": 40,
   "id": "71aae86f-aa48-4a0d-99df-d0f5223bd8f5",
   "metadata": {
    "tags": []
   },
   "outputs": [],
   "source": [
    "RMSE_CV=[]\n",
    "RMSE_test = []\n",
    "\n",
    "k=40\n",
    "\n",
    "for i in range(1, k):\n",
    "    KNN_i = KNeighborsRegressor(n_neighbors=i)\n",
    "    KNN_i.fit(X_train, y_train)\n",
    "    RMSE_i = np.sqrt(np.mean(-1*cross_val_score(estimator = KNN_i, X = X_train, y = y_train, cv = 10, scoring=\"neg_mean_squared_error\")))\n",
    "    RMSE_CV.append(RMSE_i)\n",
    "    \n",
    "    RMSE_test.append(np.sqrt(np.mean(np.square(y_test - KNN_i.predict(X_test)))))\n",
    "    \n",
    "optimal_k = pd.DataFrame({'RMSE_CV': np.round(RMSE_CV, 2), 'RMSE_test':np.round(RMSE_test, 2)}, index=range(1,k))\n"
   ]
  },
  {
   "cell_type": "code",
   "execution_count": 41,
   "id": "db34aeb3-63c8-4d88-8c0e-39c60b6c94b0",
   "metadata": {
    "tags": []
   },
   "outputs": [
    {
     "data": {
      "text/html": [
       "<div>\n",
       "<style scoped>\n",
       "    .dataframe tbody tr th:only-of-type {\n",
       "        vertical-align: middle;\n",
       "    }\n",
       "\n",
       "    .dataframe tbody tr th {\n",
       "        vertical-align: top;\n",
       "    }\n",
       "\n",
       "    .dataframe thead th {\n",
       "        text-align: right;\n",
       "    }\n",
       "</style>\n",
       "<table border=\"1\" class=\"dataframe\">\n",
       "  <thead>\n",
       "    <tr style=\"text-align: right;\">\n",
       "      <th></th>\n",
       "      <th>RMSE_CV</th>\n",
       "      <th>RMSE_test</th>\n",
       "    </tr>\n",
       "  </thead>\n",
       "  <tbody>\n",
       "    <tr>\n",
       "      <th>1</th>\n",
       "      <td>0.12</td>\n",
       "      <td>0.12</td>\n",
       "    </tr>\n",
       "    <tr>\n",
       "      <th>2</th>\n",
       "      <td>0.14</td>\n",
       "      <td>0.14</td>\n",
       "    </tr>\n",
       "    <tr>\n",
       "      <th>3</th>\n",
       "      <td>0.16</td>\n",
       "      <td>0.15</td>\n",
       "    </tr>\n",
       "    <tr>\n",
       "      <th>4</th>\n",
       "      <td>0.19</td>\n",
       "      <td>0.17</td>\n",
       "    </tr>\n",
       "    <tr>\n",
       "      <th>5</th>\n",
       "      <td>0.22</td>\n",
       "      <td>0.19</td>\n",
       "    </tr>\n",
       "    <tr>\n",
       "      <th>6</th>\n",
       "      <td>0.24</td>\n",
       "      <td>0.21</td>\n",
       "    </tr>\n",
       "    <tr>\n",
       "      <th>7</th>\n",
       "      <td>0.27</td>\n",
       "      <td>0.23</td>\n",
       "    </tr>\n",
       "    <tr>\n",
       "      <th>8</th>\n",
       "      <td>0.28</td>\n",
       "      <td>0.26</td>\n",
       "    </tr>\n",
       "    <tr>\n",
       "      <th>9</th>\n",
       "      <td>0.30</td>\n",
       "      <td>0.28</td>\n",
       "    </tr>\n",
       "    <tr>\n",
       "      <th>10</th>\n",
       "      <td>0.31</td>\n",
       "      <td>0.29</td>\n",
       "    </tr>\n",
       "  </tbody>\n",
       "</table>\n",
       "</div>"
      ],
      "text/plain": [
       "    RMSE_CV  RMSE_test\n",
       "1      0.12       0.12\n",
       "2      0.14       0.14\n",
       "3      0.16       0.15\n",
       "4      0.19       0.17\n",
       "5      0.22       0.19\n",
       "6      0.24       0.21\n",
       "7      0.27       0.23\n",
       "8      0.28       0.26\n",
       "9      0.30       0.28\n",
       "10     0.31       0.29"
      ]
     },
     "execution_count": 41,
     "metadata": {},
     "output_type": "execute_result"
    }
   ],
   "source": [
    "optimal_k.head(10)"
   ]
  },
  {
   "cell_type": "code",
   "execution_count": 42,
   "id": "a4034624-fff8-4d20-b203-4cbf4a8e0f08",
   "metadata": {
    "tags": []
   },
   "outputs": [
    {
     "data": {
      "text/plain": [
       "0"
      ]
     },
     "execution_count": 42,
     "metadata": {},
     "output_type": "execute_result"
    }
   ],
   "source": [
    "np.argmin(optimal_k['RMSE_CV'])"
   ]
  },
  {
   "cell_type": "code",
   "execution_count": 43,
   "id": "ac07f6e0-0cc3-47da-a787-6269b9e861f0",
   "metadata": {
    "tags": []
   },
   "outputs": [
    {
     "data": {
      "image/png": "[encoded data removed]",
      "text/plain": [
       "<Figure size 1000x500 with 1 Axes>"
      ]
     },
     "metadata": {},
     "output_type": "display_data"
    }
   ],
   "source": [
    "plt.figure(figsize=(10,5))\n",
    "sns.lineplot(data=optimal_k)\n",
    "plt.title('Cross Validated RMSE Vs K')\n",
    "plt.xlabel('K')\n",
    "plt.ylabel('RMSE')\n",
    "plt.show()"
   ]
  },
  {
   "cell_type": "code",
   "execution_count": null,
   "id": "3148b6e2-e192-4732-80a3-7771d5a79fd3",
   "metadata": {},
   "outputs": [],
   "source": []
  }
 ],
 "metadata": {
  "kernelspec": {
   "display_name": "Python 3 (ipykernel)",
   "language": "python",
   "name": "python3"
  },
  "language_info": {
   "codemirror_mode": {
    "name": "ipython",
    "version": 3
   },
   "file_extension": ".py",
   "mimetype": "text/x-python",
   "name": "python",
   "nbconvert_exporter": "python",
   "pygments_lexer": "ipython3",
   "version": "3.11.5"
  }
 },
 "nbformat": 4,
 "nbformat_minor": 5
}
